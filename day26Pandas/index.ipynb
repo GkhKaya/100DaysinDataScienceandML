{
 "cells": [
  {
   "cell_type": "code",
   "id": "initial_id",
   "metadata": {
    "collapsed": true,
    "ExecuteTime": {
     "end_time": "2025-07-01T22:18:57.802030Z",
     "start_time": "2025-07-01T22:18:57.798557Z"
    }
   },
   "source": [
    "import pandas as pd\n",
    "import numpy as np"
   ],
   "outputs": [],
   "execution_count": 51
  },
  {
   "metadata": {
    "ExecuteTime": {
     "end_time": "2025-07-01T22:18:59.076073Z",
     "start_time": "2025-07-01T22:18:59.070190Z"
    }
   },
   "cell_type": "code",
   "source": [
    "grades = {\"Atil\": 50, \"James\": 60, \"Lars\": 30,\"Lars2\": 30}\n",
    "pd.Series(grades)"
   ],
   "id": "36950510a94431d5",
   "outputs": [
    {
     "data": {
      "text/plain": [
       "Atil     50\n",
       "James    60\n",
       "Lars     30\n",
       "Lars2    30\n",
       "dtype: int64"
      ]
     },
     "execution_count": 52,
     "metadata": {},
     "output_type": "execute_result"
    }
   ],
   "execution_count": 52
  },
  {
   "metadata": {
    "ExecuteTime": {
     "end_time": "2025-07-01T22:18:59.932097Z",
     "start_time": "2025-07-01T22:18:59.927463Z"
    }
   },
   "cell_type": "code",
   "source": [
    "names = [\"Atil\", \"James\", \"Lars\"]\n",
    "grades = [50, 60, 30]\n",
    "\n",
    "pd.Series(grades)"
   ],
   "id": "c244b16c8045210e",
   "outputs": [
    {
     "data": {
      "text/plain": [
       "0    50\n",
       "1    60\n",
       "2    30\n",
       "dtype: int64"
      ]
     },
     "execution_count": 53,
     "metadata": {},
     "output_type": "execute_result"
    }
   ],
   "execution_count": 53
  },
  {
   "metadata": {
    "ExecuteTime": {
     "end_time": "2025-07-01T22:19:00.641296Z",
     "start_time": "2025-07-01T22:19:00.636885Z"
    }
   },
   "cell_type": "code",
   "source": "pd.Series(names,grades)",
   "id": "a0cf4d64b54a0bfe",
   "outputs": [
    {
     "data": {
      "text/plain": [
       "50     Atil\n",
       "60    James\n",
       "30     Lars\n",
       "dtype: object"
      ]
     },
     "execution_count": 54,
     "metadata": {},
     "output_type": "execute_result"
    }
   ],
   "execution_count": 54
  },
  {
   "metadata": {
    "ExecuteTime": {
     "end_time": "2025-07-01T22:19:01.234128Z",
     "start_time": "2025-07-01T22:19:01.227609Z"
    }
   },
   "cell_type": "code",
   "source": [
    "contest_rusult1 = pd.Series(data=[10,5,20], index=[\"Atil\",\"James\" ,\"Lars\"])\n",
    "contest_rusult2 = pd.Series(data=[20,10,100], index=[\"Atil\",\"James\" ,\"Lars\"])\n",
    "\n",
    "finalResult = contest_rusult1 * 40 / 100 + contest_rusult2 * 60 / 100\n",
    "finalResult\n",
    "\n"
   ],
   "id": "2b929d88630247f6",
   "outputs": [
    {
     "data": {
      "text/plain": [
       "Atil     16.0\n",
       "James     8.0\n",
       "Lars     68.0\n",
       "dtype: float64"
      ]
     },
     "execution_count": 55,
     "metadata": {},
     "output_type": "execute_result"
    }
   ],
   "execution_count": 55
  },
  {
   "metadata": {
    "ExecuteTime": {
     "end_time": "2025-07-01T22:19:01.822016Z",
     "start_time": "2025-07-01T22:19:01.815645Z"
    }
   },
   "cell_type": "code",
   "source": [
    "contest_rusult1 = pd.Series(data=[10,5,20], index=[\"Atil\",\"Atil\" ,\"Lars\"])\n",
    "contest_rusult2 = pd.Series(data=[20,10,100], index=[\"Atil\",\"James\" ,\"Lars\"])\n",
    "finalResult = contest_rusult1 * 40 / 100 + contest_rusult2 * 60 / 100\n",
    "finalResult\n"
   ],
   "id": "90bc9e76db4d041e",
   "outputs": [
    {
     "data": {
      "text/plain": [
       "Atil     16.0\n",
       "Atil     14.0\n",
       "James     NaN\n",
       "Lars     68.0\n",
       "dtype: float64"
      ]
     },
     "execution_count": 56,
     "metadata": {},
     "output_type": "execute_result"
    }
   ],
   "execution_count": 56
  },
  {
   "metadata": {
    "ExecuteTime": {
     "end_time": "2025-07-01T22:19:02.391225Z",
     "start_time": "2025-07-01T22:19:02.388935Z"
    }
   },
   "cell_type": "code",
   "outputs": [],
   "source": "",
   "id": "d96fcb23018e9ab0",
   "execution_count": null
  },
  {
   "metadata": {},
   "cell_type": "markdown",
   "source": "# Dataframe",
   "id": "2b0758e35b449598"
  },
  {
   "metadata": {
    "ExecuteTime": {
     "end_time": "2025-07-01T22:20:01.796214Z",
     "start_time": "2025-07-01T22:20:01.787398Z"
    }
   },
   "cell_type": "code",
   "source": [
    "data = np.random.randn(4,3)\n",
    "data"
   ],
   "id": "2e52a204293e370b",
   "outputs": [
    {
     "data": {
      "text/plain": [
       "array([[-0.65069631,  1.47521165,  0.0106923 ],\n",
       "       [-1.96621755,  0.77137691, -1.45608701],\n",
       "       [ 0.86476099, -0.08615524, -0.51141143],\n",
       "       [ 1.20601029,  0.94223792,  0.60601524]])"
      ]
     },
     "execution_count": 61,
     "metadata": {},
     "output_type": "execute_result"
    }
   ],
   "execution_count": 61
  },
  {
   "metadata": {
    "ExecuteTime": {
     "end_time": "2025-07-01T22:17:26.994947Z",
     "start_time": "2025-07-01T22:17:26.990753Z"
    }
   },
   "cell_type": "code",
   "source": [
    "dataframe = pd.DataFrame(data)\n",
    "dataframe"
   ],
   "id": "1adce27bc5230faa",
   "outputs": [
    {
     "data": {
      "text/plain": [
       "          0         1         2\n",
       "0 -0.759529 -0.222281  0.290953\n",
       "1 -1.211638 -1.897151  1.110059\n",
       "2  0.150839 -0.149028  0.386945\n",
       "3 -1.399903 -2.285754 -0.646007"
      ],
      "text/html": [
       "<div>\n",
       "<style scoped>\n",
       "    .dataframe tbody tr th:only-of-type {\n",
       "        vertical-align: middle;\n",
       "    }\n",
       "\n",
       "    .dataframe tbody tr th {\n",
       "        vertical-align: top;\n",
       "    }\n",
       "\n",
       "    .dataframe thead th {\n",
       "        text-align: right;\n",
       "    }\n",
       "</style>\n",
       "<table border=\"1\" class=\"dataframe\">\n",
       "  <thead>\n",
       "    <tr style=\"text-align: right;\">\n",
       "      <th></th>\n",
       "      <th>0</th>\n",
       "      <th>1</th>\n",
       "      <th>2</th>\n",
       "    </tr>\n",
       "  </thead>\n",
       "  <tbody>\n",
       "    <tr>\n",
       "      <th>0</th>\n",
       "      <td>-0.759529</td>\n",
       "      <td>-0.222281</td>\n",
       "      <td>0.290953</td>\n",
       "    </tr>\n",
       "    <tr>\n",
       "      <th>1</th>\n",
       "      <td>-1.211638</td>\n",
       "      <td>-1.897151</td>\n",
       "      <td>1.110059</td>\n",
       "    </tr>\n",
       "    <tr>\n",
       "      <th>2</th>\n",
       "      <td>0.150839</td>\n",
       "      <td>-0.149028</td>\n",
       "      <td>0.386945</td>\n",
       "    </tr>\n",
       "    <tr>\n",
       "      <th>3</th>\n",
       "      <td>-1.399903</td>\n",
       "      <td>-2.285754</td>\n",
       "      <td>-0.646007</td>\n",
       "    </tr>\n",
       "  </tbody>\n",
       "</table>\n",
       "</div>"
      ]
     },
     "execution_count": 38,
     "metadata": {},
     "output_type": "execute_result"
    }
   ],
   "execution_count": 38
  },
  {
   "metadata": {
    "ExecuteTime": {
     "end_time": "2025-07-01T22:17:27.070539Z",
     "start_time": "2025-07-01T22:17:27.066743Z"
    }
   },
   "cell_type": "code",
   "source": [
    "new_df = pd.DataFrame(data,index=[\"Atil\",\"James\",\"Lars\",\"gokhan\"],columns=[\"Salary\",\"Age\",\"Seniority\"])\n",
    "new_df"
   ],
   "id": "3f519f56b7aead12",
   "outputs": [
    {
     "data": {
      "text/plain": [
       "          Salary       Age  Seniority\n",
       "Atil   -0.759529 -0.222281   0.290953\n",
       "James  -1.211638 -1.897151   1.110059\n",
       "Lars    0.150839 -0.149028   0.386945\n",
       "gokhan -1.399903 -2.285754  -0.646007"
      ],
      "text/html": [
       "<div>\n",
       "<style scoped>\n",
       "    .dataframe tbody tr th:only-of-type {\n",
       "        vertical-align: middle;\n",
       "    }\n",
       "\n",
       "    .dataframe tbody tr th {\n",
       "        vertical-align: top;\n",
       "    }\n",
       "\n",
       "    .dataframe thead th {\n",
       "        text-align: right;\n",
       "    }\n",
       "</style>\n",
       "<table border=\"1\" class=\"dataframe\">\n",
       "  <thead>\n",
       "    <tr style=\"text-align: right;\">\n",
       "      <th></th>\n",
       "      <th>Salary</th>\n",
       "      <th>Age</th>\n",
       "      <th>Seniority</th>\n",
       "    </tr>\n",
       "  </thead>\n",
       "  <tbody>\n",
       "    <tr>\n",
       "      <th>Atil</th>\n",
       "      <td>-0.759529</td>\n",
       "      <td>-0.222281</td>\n",
       "      <td>0.290953</td>\n",
       "    </tr>\n",
       "    <tr>\n",
       "      <th>James</th>\n",
       "      <td>-1.211638</td>\n",
       "      <td>-1.897151</td>\n",
       "      <td>1.110059</td>\n",
       "    </tr>\n",
       "    <tr>\n",
       "      <th>Lars</th>\n",
       "      <td>0.150839</td>\n",
       "      <td>-0.149028</td>\n",
       "      <td>0.386945</td>\n",
       "    </tr>\n",
       "    <tr>\n",
       "      <th>gokhan</th>\n",
       "      <td>-1.399903</td>\n",
       "      <td>-2.285754</td>\n",
       "      <td>-0.646007</td>\n",
       "    </tr>\n",
       "  </tbody>\n",
       "</table>\n",
       "</div>"
      ]
     },
     "execution_count": 39,
     "metadata": {},
     "output_type": "execute_result"
    }
   ],
   "execution_count": 39
  },
  {
   "metadata": {
    "ExecuteTime": {
     "end_time": "2025-07-01T22:17:27.140589Z",
     "start_time": "2025-07-01T22:17:27.137191Z"
    }
   },
   "cell_type": "code",
   "source": "new_df.loc[\"gokhan\"]",
   "id": "1ca04c6e9f5e9332",
   "outputs": [
    {
     "data": {
      "text/plain": [
       "Salary      -1.399903\n",
       "Age         -2.285754\n",
       "Seniority   -0.646007\n",
       "Name: gokhan, dtype: float64"
      ]
     },
     "execution_count": 40,
     "metadata": {},
     "output_type": "execute_result"
    }
   ],
   "execution_count": 40
  },
  {
   "metadata": {
    "ExecuteTime": {
     "end_time": "2025-07-01T22:17:27.240187Z",
     "start_time": "2025-07-01T22:17:27.237750Z"
    }
   },
   "cell_type": "code",
   "source": "new_df.iloc[2]",
   "id": "af57c19e0f0e5df3",
   "outputs": [
    {
     "data": {
      "text/plain": [
       "Salary       0.150839\n",
       "Age         -0.149028\n",
       "Seniority    0.386945\n",
       "Name: Lars, dtype: float64"
      ]
     },
     "execution_count": 41,
     "metadata": {},
     "output_type": "execute_result"
    }
   ],
   "execution_count": 41
  },
  {
   "metadata": {
    "ExecuteTime": {
     "end_time": "2025-07-01T22:17:27.372712Z",
     "start_time": "2025-07-01T22:17:27.370125Z"
    }
   },
   "cell_type": "code",
   "source": "new_df.iloc[:,2]",
   "id": "532cb4a6e695087c",
   "outputs": [
    {
     "data": {
      "text/plain": [
       "Atil      0.290953\n",
       "James     1.110059\n",
       "Lars      0.386945\n",
       "gokhan   -0.646007\n",
       "Name: Seniority, dtype: float64"
      ]
     },
     "execution_count": 42,
     "metadata": {},
     "output_type": "execute_result"
    }
   ],
   "execution_count": 42
  },
  {
   "metadata": {
    "ExecuteTime": {
     "end_time": "2025-07-01T22:17:27.481118Z",
     "start_time": "2025-07-01T22:17:27.479731Z"
    }
   },
   "cell_type": "code",
   "source": "",
   "id": "fdac7909ccf5f03b",
   "outputs": [],
   "execution_count": null
  },
  {
   "metadata": {},
   "cell_type": "markdown",
   "source": "# data manipulation",
   "id": "1e4774038c3e01b3"
  },
  {
   "metadata": {
    "ExecuteTime": {
     "end_time": "2025-07-01T22:17:27.561009Z",
     "start_time": "2025-07-01T22:17:27.558777Z"
    }
   },
   "cell_type": "code",
   "source": "new_df[\"extra\"] = 10",
   "id": "8d3fc292cf5d7227",
   "outputs": [],
   "execution_count": 43
  },
  {
   "metadata": {
    "ExecuteTime": {
     "end_time": "2025-07-01T22:17:27.642703Z",
     "start_time": "2025-07-01T22:17:27.636735Z"
    }
   },
   "cell_type": "code",
   "source": "new_df",
   "id": "91ea8ee9c6fff354",
   "outputs": [
    {
     "data": {
      "text/plain": [
       "          Salary       Age  Seniority  extra\n",
       "Atil   -0.759529 -0.222281   0.290953     10\n",
       "James  -1.211638 -1.897151   1.110059     10\n",
       "Lars    0.150839 -0.149028   0.386945     10\n",
       "gokhan -1.399903 -2.285754  -0.646007     10"
      ],
      "text/html": [
       "<div>\n",
       "<style scoped>\n",
       "    .dataframe tbody tr th:only-of-type {\n",
       "        vertical-align: middle;\n",
       "    }\n",
       "\n",
       "    .dataframe tbody tr th {\n",
       "        vertical-align: top;\n",
       "    }\n",
       "\n",
       "    .dataframe thead th {\n",
       "        text-align: right;\n",
       "    }\n",
       "</style>\n",
       "<table border=\"1\" class=\"dataframe\">\n",
       "  <thead>\n",
       "    <tr style=\"text-align: right;\">\n",
       "      <th></th>\n",
       "      <th>Salary</th>\n",
       "      <th>Age</th>\n",
       "      <th>Seniority</th>\n",
       "      <th>extra</th>\n",
       "    </tr>\n",
       "  </thead>\n",
       "  <tbody>\n",
       "    <tr>\n",
       "      <th>Atil</th>\n",
       "      <td>-0.759529</td>\n",
       "      <td>-0.222281</td>\n",
       "      <td>0.290953</td>\n",
       "      <td>10</td>\n",
       "    </tr>\n",
       "    <tr>\n",
       "      <th>James</th>\n",
       "      <td>-1.211638</td>\n",
       "      <td>-1.897151</td>\n",
       "      <td>1.110059</td>\n",
       "      <td>10</td>\n",
       "    </tr>\n",
       "    <tr>\n",
       "      <th>Lars</th>\n",
       "      <td>0.150839</td>\n",
       "      <td>-0.149028</td>\n",
       "      <td>0.386945</td>\n",
       "      <td>10</td>\n",
       "    </tr>\n",
       "    <tr>\n",
       "      <th>gokhan</th>\n",
       "      <td>-1.399903</td>\n",
       "      <td>-2.285754</td>\n",
       "      <td>-0.646007</td>\n",
       "      <td>10</td>\n",
       "    </tr>\n",
       "  </tbody>\n",
       "</table>\n",
       "</div>"
      ]
     },
     "execution_count": 44,
     "metadata": {},
     "output_type": "execute_result"
    }
   ],
   "execution_count": 44
  },
  {
   "metadata": {
    "ExecuteTime": {
     "end_time": "2025-07-01T22:21:09.490017Z",
     "start_time": "2025-07-01T22:21:08.703899Z"
    }
   },
   "cell_type": "code",
   "source": "new_df.drop(\"extra\",axis=1,inplace=True)",
   "id": "ec37087d7475dee3",
   "outputs": [
    {
     "ename": "KeyError",
     "evalue": "\"['extra'] not found in axis\"",
     "output_type": "error",
     "traceback": [
      "\u001B[0;31m---------------------------------------------------------------------------\u001B[0m",
      "\u001B[0;31mKeyError\u001B[0m                                  Traceback (most recent call last)",
      "Cell \u001B[0;32mIn[62], line 1\u001B[0m\n\u001B[0;32m----> 1\u001B[0m new_df\u001B[38;5;241m.\u001B[39mdrop(\u001B[38;5;124m\"\u001B[39m\u001B[38;5;124mextra\u001B[39m\u001B[38;5;124m\"\u001B[39m,axis\u001B[38;5;241m=\u001B[39m\u001B[38;5;241m1\u001B[39m,inplace\u001B[38;5;241m=\u001B[39m\u001B[38;5;28;01mTrue\u001B[39;00m)\n",
      "File \u001B[0;32m/opt/anaconda3/lib/python3.13/site-packages/pandas/core/frame.py:5581\u001B[0m, in \u001B[0;36mDataFrame.drop\u001B[0;34m(self, labels, axis, index, columns, level, inplace, errors)\u001B[0m\n\u001B[1;32m   5433\u001B[0m \u001B[38;5;28;01mdef\u001B[39;00m\u001B[38;5;250m \u001B[39m\u001B[38;5;21mdrop\u001B[39m(\n\u001B[1;32m   5434\u001B[0m     \u001B[38;5;28mself\u001B[39m,\n\u001B[1;32m   5435\u001B[0m     labels: IndexLabel \u001B[38;5;241m|\u001B[39m \u001B[38;5;28;01mNone\u001B[39;00m \u001B[38;5;241m=\u001B[39m \u001B[38;5;28;01mNone\u001B[39;00m,\n\u001B[0;32m   (...)\u001B[0m\n\u001B[1;32m   5442\u001B[0m     errors: IgnoreRaise \u001B[38;5;241m=\u001B[39m \u001B[38;5;124m\"\u001B[39m\u001B[38;5;124mraise\u001B[39m\u001B[38;5;124m\"\u001B[39m,\n\u001B[1;32m   5443\u001B[0m ) \u001B[38;5;241m-\u001B[39m\u001B[38;5;241m>\u001B[39m DataFrame \u001B[38;5;241m|\u001B[39m \u001B[38;5;28;01mNone\u001B[39;00m:\n\u001B[1;32m   5444\u001B[0m \u001B[38;5;250m    \u001B[39m\u001B[38;5;124;03m\"\"\"\u001B[39;00m\n\u001B[1;32m   5445\u001B[0m \u001B[38;5;124;03m    Drop specified labels from rows or columns.\u001B[39;00m\n\u001B[1;32m   5446\u001B[0m \n\u001B[0;32m   (...)\u001B[0m\n\u001B[1;32m   5579\u001B[0m \u001B[38;5;124;03m            weight  1.0     0.8\u001B[39;00m\n\u001B[1;32m   5580\u001B[0m \u001B[38;5;124;03m    \"\"\"\u001B[39;00m\n\u001B[0;32m-> 5581\u001B[0m     \u001B[38;5;28;01mreturn\u001B[39;00m \u001B[38;5;28msuper\u001B[39m()\u001B[38;5;241m.\u001B[39mdrop(\n\u001B[1;32m   5582\u001B[0m         labels\u001B[38;5;241m=\u001B[39mlabels,\n\u001B[1;32m   5583\u001B[0m         axis\u001B[38;5;241m=\u001B[39maxis,\n\u001B[1;32m   5584\u001B[0m         index\u001B[38;5;241m=\u001B[39mindex,\n\u001B[1;32m   5585\u001B[0m         columns\u001B[38;5;241m=\u001B[39mcolumns,\n\u001B[1;32m   5586\u001B[0m         level\u001B[38;5;241m=\u001B[39mlevel,\n\u001B[1;32m   5587\u001B[0m         inplace\u001B[38;5;241m=\u001B[39minplace,\n\u001B[1;32m   5588\u001B[0m         errors\u001B[38;5;241m=\u001B[39merrors,\n\u001B[1;32m   5589\u001B[0m     )\n",
      "File \u001B[0;32m/opt/anaconda3/lib/python3.13/site-packages/pandas/core/generic.py:4788\u001B[0m, in \u001B[0;36mNDFrame.drop\u001B[0;34m(self, labels, axis, index, columns, level, inplace, errors)\u001B[0m\n\u001B[1;32m   4786\u001B[0m \u001B[38;5;28;01mfor\u001B[39;00m axis, labels \u001B[38;5;129;01min\u001B[39;00m axes\u001B[38;5;241m.\u001B[39mitems():\n\u001B[1;32m   4787\u001B[0m     \u001B[38;5;28;01mif\u001B[39;00m labels \u001B[38;5;129;01mis\u001B[39;00m \u001B[38;5;129;01mnot\u001B[39;00m \u001B[38;5;28;01mNone\u001B[39;00m:\n\u001B[0;32m-> 4788\u001B[0m         obj \u001B[38;5;241m=\u001B[39m obj\u001B[38;5;241m.\u001B[39m_drop_axis(labels, axis, level\u001B[38;5;241m=\u001B[39mlevel, errors\u001B[38;5;241m=\u001B[39merrors)\n\u001B[1;32m   4790\u001B[0m \u001B[38;5;28;01mif\u001B[39;00m inplace:\n\u001B[1;32m   4791\u001B[0m     \u001B[38;5;28mself\u001B[39m\u001B[38;5;241m.\u001B[39m_update_inplace(obj)\n",
      "File \u001B[0;32m/opt/anaconda3/lib/python3.13/site-packages/pandas/core/generic.py:4830\u001B[0m, in \u001B[0;36mNDFrame._drop_axis\u001B[0;34m(self, labels, axis, level, errors, only_slice)\u001B[0m\n\u001B[1;32m   4828\u001B[0m         new_axis \u001B[38;5;241m=\u001B[39m axis\u001B[38;5;241m.\u001B[39mdrop(labels, level\u001B[38;5;241m=\u001B[39mlevel, errors\u001B[38;5;241m=\u001B[39merrors)\n\u001B[1;32m   4829\u001B[0m     \u001B[38;5;28;01melse\u001B[39;00m:\n\u001B[0;32m-> 4830\u001B[0m         new_axis \u001B[38;5;241m=\u001B[39m axis\u001B[38;5;241m.\u001B[39mdrop(labels, errors\u001B[38;5;241m=\u001B[39merrors)\n\u001B[1;32m   4831\u001B[0m     indexer \u001B[38;5;241m=\u001B[39m axis\u001B[38;5;241m.\u001B[39mget_indexer(new_axis)\n\u001B[1;32m   4833\u001B[0m \u001B[38;5;66;03m# Case for non-unique axis\u001B[39;00m\n\u001B[1;32m   4834\u001B[0m \u001B[38;5;28;01melse\u001B[39;00m:\n",
      "File \u001B[0;32m/opt/anaconda3/lib/python3.13/site-packages/pandas/core/indexes/base.py:7070\u001B[0m, in \u001B[0;36mIndex.drop\u001B[0;34m(self, labels, errors)\u001B[0m\n\u001B[1;32m   7068\u001B[0m \u001B[38;5;28;01mif\u001B[39;00m mask\u001B[38;5;241m.\u001B[39many():\n\u001B[1;32m   7069\u001B[0m     \u001B[38;5;28;01mif\u001B[39;00m errors \u001B[38;5;241m!=\u001B[39m \u001B[38;5;124m\"\u001B[39m\u001B[38;5;124mignore\u001B[39m\u001B[38;5;124m\"\u001B[39m:\n\u001B[0;32m-> 7070\u001B[0m         \u001B[38;5;28;01mraise\u001B[39;00m \u001B[38;5;167;01mKeyError\u001B[39;00m(\u001B[38;5;124mf\u001B[39m\u001B[38;5;124m\"\u001B[39m\u001B[38;5;132;01m{\u001B[39;00mlabels[mask]\u001B[38;5;241m.\u001B[39mtolist()\u001B[38;5;132;01m}\u001B[39;00m\u001B[38;5;124m not found in axis\u001B[39m\u001B[38;5;124m\"\u001B[39m)\n\u001B[1;32m   7071\u001B[0m     indexer \u001B[38;5;241m=\u001B[39m indexer[\u001B[38;5;241m~\u001B[39mmask]\n\u001B[1;32m   7072\u001B[0m \u001B[38;5;28;01mreturn\u001B[39;00m \u001B[38;5;28mself\u001B[39m\u001B[38;5;241m.\u001B[39mdelete(indexer)\n",
      "\u001B[0;31mKeyError\u001B[0m: \"['extra'] not found in axis\""
     ]
    }
   ],
   "execution_count": 62
  },
  {
   "metadata": {},
   "cell_type": "code",
   "outputs": [],
   "execution_count": null,
   "source": "",
   "id": "cb6a6d05a201b063"
  }
 ],
 "metadata": {
  "kernelspec": {
   "display_name": "Python 3",
   "language": "python",
   "name": "python3"
  },
  "language_info": {
   "codemirror_mode": {
    "name": "ipython",
    "version": 2
   },
   "file_extension": ".py",
   "mimetype": "text/x-python",
   "name": "python",
   "nbconvert_exporter": "python",
   "pygments_lexer": "ipython2",
   "version": "2.7.6"
  }
 },
 "nbformat": 4,
 "nbformat_minor": 5
}
