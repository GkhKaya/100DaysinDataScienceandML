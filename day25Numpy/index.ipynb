{
 "cells": [
  {
   "cell_type": "code",
   "id": "initial_id",
   "metadata": {
    "collapsed": true,
    "ExecuteTime": {
     "end_time": "2025-07-01T14:02:50.693580Z",
     "start_time": "2025-07-01T14:02:50.604275Z"
    }
   },
   "source": "import numpy as np",
   "outputs": [],
   "execution_count": 1
  },
  {
   "metadata": {
    "ExecuteTime": {
     "end_time": "2025-07-01T14:04:26.735850Z",
     "start_time": "2025-07-01T14:04:26.733474Z"
    }
   },
   "cell_type": "code",
   "source": "mylist = np.array([1,2,3])",
   "id": "4f20a80ea89ae9a1",
   "outputs": [],
   "execution_count": 5
  },
  {
   "metadata": {
    "ExecuteTime": {
     "end_time": "2025-07-01T14:04:27.346887Z",
     "start_time": "2025-07-01T14:04:27.344265Z"
    }
   },
   "cell_type": "code",
   "source": "np.max(mylist)",
   "id": "d965a6734b72d863",
   "outputs": [
    {
     "data": {
      "text/plain": [
       "np.int64(3)"
      ]
     },
     "execution_count": 6,
     "metadata": {},
     "output_type": "execute_result"
    }
   ],
   "execution_count": 6
  },
  {
   "metadata": {},
   "cell_type": "markdown",
   "source": "# Array Arithmetic",
   "id": "aa9e22ea4f6cc06"
  },
  {
   "metadata": {
    "ExecuteTime": {
     "end_time": "2025-07-01T14:12:08.484650Z",
     "start_time": "2025-07-01T14:12:08.477311Z"
    }
   },
   "cell_type": "code",
   "source": [
    "myList1 = [1,2]\n",
    "myList2 = [2,3]\n",
    "\n",
    "myNumpyArray1 = np.array(myList1)\n",
    "myNumpyArray2 = np.array(myList2)\n",
    "\n",
    "myNumpyArray1 + myNumpyArray2"
   ],
   "id": "54f31306453ef426",
   "outputs": [
    {
     "data": {
      "text/plain": [
       "array([3, 5])"
      ]
     },
     "execution_count": 9,
     "metadata": {},
     "output_type": "execute_result"
    }
   ],
   "execution_count": 9
  },
  {
   "metadata": {
    "ExecuteTime": {
     "end_time": "2025-07-01T14:13:18.325248Z",
     "start_time": "2025-07-01T14:13:18.321357Z"
    }
   },
   "cell_type": "code",
   "source": "myNumpyArray2 * 5",
   "id": "6470ba197daab477",
   "outputs": [
    {
     "data": {
      "text/plain": [
       "array([10, 15])"
      ]
     },
     "execution_count": 10,
     "metadata": {},
     "output_type": "execute_result"
    }
   ],
   "execution_count": 10
  },
  {
   "metadata": {
    "ExecuteTime": {
     "end_time": "2025-07-01T14:13:48.347226Z",
     "start_time": "2025-07-01T14:13:48.344571Z"
    }
   },
   "cell_type": "code",
   "source": [
    "otherArray = np.array([1,2,3])\n",
    "otherArray.min()"
   ],
   "id": "7aea931631f5ef62",
   "outputs": [
    {
     "data": {
      "text/plain": [
       "np.int64(1)"
      ]
     },
     "execution_count": 11,
     "metadata": {},
     "output_type": "execute_result"
    }
   ],
   "execution_count": 11
  },
  {
   "metadata": {
    "ExecuteTime": {
     "end_time": "2025-07-01T14:14:01.088083Z",
     "start_time": "2025-07-01T14:14:01.084570Z"
    }
   },
   "cell_type": "code",
   "source": "otherArray.sum()",
   "id": "982cbd00a49438df",
   "outputs": [
    {
     "data": {
      "text/plain": [
       "np.int64(6)"
      ]
     },
     "execution_count": 12,
     "metadata": {},
     "output_type": "execute_result"
    }
   ],
   "execution_count": 12
  },
  {
   "metadata": {},
   "cell_type": "markdown",
   "source": "# Arange and Indexing",
   "id": "7f388e2d58a696aa"
  },
  {
   "metadata": {
    "ExecuteTime": {
     "end_time": "2025-07-01T14:16:34.217692Z",
     "start_time": "2025-07-01T14:16:34.214522Z"
    }
   },
   "cell_type": "code",
   "source": [
    "np.arange(0,10)\n",
    "np.arange(0,10,4)"
   ],
   "id": "91e801d03605cdfd",
   "outputs": [
    {
     "data": {
      "text/plain": [
       "array([0, 4, 8])"
      ]
     },
     "execution_count": 17,
     "metadata": {},
     "output_type": "execute_result"
    }
   ],
   "execution_count": 17
  },
  {
   "metadata": {
    "ExecuteTime": {
     "end_time": "2025-07-01T14:17:33.212569Z",
     "start_time": "2025-07-01T14:17:33.208901Z"
    }
   },
   "cell_type": "code",
   "source": [
    "npArray = np.arange(0,10)\n",
    "npArray[1:4:]\n",
    "npArray[::-1]"
   ],
   "id": "2756c1c7b6608c8",
   "outputs": [
    {
     "data": {
      "text/plain": [
       "array([9, 8, 7, 6, 5, 4, 3, 2, 1, 0])"
      ]
     },
     "execution_count": 19,
     "metadata": {},
     "output_type": "execute_result"
    }
   ],
   "execution_count": 19
  },
  {
   "metadata": {
    "ExecuteTime": {
     "end_time": "2025-07-01T14:18:32.933652Z",
     "start_time": "2025-07-01T14:18:32.929750Z"
    }
   },
   "cell_type": "code",
   "source": "np.random.rand()",
   "id": "cda140db96399854",
   "outputs": [
    {
     "data": {
      "text/plain": [
       "0.6799288506321963"
      ]
     },
     "execution_count": 22,
     "metadata": {},
     "output_type": "execute_result"
    }
   ],
   "execution_count": 22
  },
  {
   "metadata": {},
   "cell_type": "markdown",
   "source": "# Matrices",
   "id": "ffe1b676212e44ea"
  },
  {
   "metadata": {
    "ExecuteTime": {
     "end_time": "2025-07-01T14:22:29.466872Z",
     "start_time": "2025-07-01T14:22:29.462376Z"
    }
   },
   "cell_type": "code",
   "source": [
    "npMatrix = np.array([[1,2,3],[4,5,6]])\n",
    "npMatrix\n"
   ],
   "id": "579023b4655bc28f",
   "outputs": [
    {
     "data": {
      "text/plain": [
       "array([[1, 2, 3],\n",
       "       [4, 5, 6]])"
      ]
     },
     "execution_count": 26,
     "metadata": {},
     "output_type": "execute_result"
    }
   ],
   "execution_count": 26
  },
  {
   "metadata": {
    "ExecuteTime": {
     "end_time": "2025-07-01T14:22:30.758041Z",
     "start_time": "2025-07-01T14:22:30.755357Z"
    }
   },
   "cell_type": "code",
   "source": "npMatrix[0,0]",
   "id": "9595162639794bce",
   "outputs": [
    {
     "data": {
      "text/plain": [
       "np.int64(1)"
      ]
     },
     "execution_count": 27,
     "metadata": {},
     "output_type": "execute_result"
    }
   ],
   "execution_count": 27
  },
  {
   "metadata": {
    "ExecuteTime": {
     "end_time": "2025-07-01T14:22:40.936772Z",
     "start_time": "2025-07-01T14:22:40.933287Z"
    }
   },
   "cell_type": "code",
   "source": "npMatrix.sum()",
   "id": "7ed4f4d965b7cb86",
   "outputs": [
    {
     "data": {
      "text/plain": [
       "np.int64(21)"
      ]
     },
     "execution_count": 29,
     "metadata": {},
     "output_type": "execute_result"
    }
   ],
   "execution_count": 29
  },
  {
   "metadata": {
    "ExecuteTime": {
     "end_time": "2025-07-01T14:23:05.936433Z",
     "start_time": "2025-07-01T14:23:05.928977Z"
    }
   },
   "cell_type": "code",
   "source": "np.zeros((5,10))",
   "id": "69533c2e07baf971",
   "outputs": [
    {
     "data": {
      "text/plain": [
       "array([[0., 0., 0., 0., 0., 0., 0., 0., 0., 0.],\n",
       "       [0., 0., 0., 0., 0., 0., 0., 0., 0., 0.],\n",
       "       [0., 0., 0., 0., 0., 0., 0., 0., 0., 0.],\n",
       "       [0., 0., 0., 0., 0., 0., 0., 0., 0., 0.],\n",
       "       [0., 0., 0., 0., 0., 0., 0., 0., 0., 0.]])"
      ]
     },
     "execution_count": 30,
     "metadata": {},
     "output_type": "execute_result"
    }
   ],
   "execution_count": 30
  },
  {
   "metadata": {
    "ExecuteTime": {
     "end_time": "2025-07-01T14:23:30.149461Z",
     "start_time": "2025-07-01T14:23:30.146648Z"
    }
   },
   "cell_type": "code",
   "source": "np.random.random((3,12))",
   "id": "cba4852ff49737d0",
   "outputs": [
    {
     "data": {
      "text/plain": [
       "array([[0.15430214, 0.67727129, 0.85250936, 0.13107425, 0.58896208,\n",
       "        0.50553218, 0.90743947, 0.83996654, 0.62604274, 0.81895645,\n",
       "        0.68619214, 0.49166676],\n",
       "       [0.09153718, 0.88628159, 0.59510766, 0.59438872, 0.25231374,\n",
       "        0.78421105, 0.7846082 , 0.27663885, 0.11042745, 0.17417943,\n",
       "        0.13696281, 0.73256221],\n",
       "       [0.42077491, 0.31838558, 0.52894068, 0.78208932, 0.27091715,\n",
       "        0.89034003, 0.87382341, 0.04571041, 0.30391599, 0.12548497,\n",
       "        0.57851046, 0.2527713 ]])"
      ]
     },
     "execution_count": 31,
     "metadata": {},
     "output_type": "execute_result"
    }
   ],
   "execution_count": 31
  },
  {
   "metadata": {
    "ExecuteTime": {
     "end_time": "2025-07-01T14:23:54.281991Z",
     "start_time": "2025-07-01T14:23:54.280149Z"
    }
   },
   "cell_type": "code",
   "source": "",
   "id": "8ca2ae7a046d664f",
   "outputs": [],
   "execution_count": 33
  },
  {
   "metadata": {},
   "cell_type": "markdown",
   "source": "# Matrix Arithmetic\n",
   "id": "bc7b1ef24a47e5a2"
  },
  {
   "metadata": {
    "ExecuteTime": {
     "end_time": "2025-07-01T14:31:25.857568Z",
     "start_time": "2025-07-01T14:31:25.851279Z"
    }
   },
   "cell_type": "code",
   "source": [
    "firstMatrisx = np.array([[1,2,3],[4,5,6]])\n",
    "secondMatrix = np.array([[1,2],[4,5],[6,1]])"
   ],
   "id": "3433d2f9ae7c8d4b",
   "outputs": [],
   "execution_count": 41
  },
  {
   "metadata": {
    "ExecuteTime": {
     "end_time": "2025-07-01T14:31:26.161153Z",
     "start_time": "2025-07-01T14:31:26.131563Z"
    }
   },
   "cell_type": "code",
   "source": "firstMatrisx + secondMatrix",
   "id": "fdf753ddcea724b8",
   "outputs": [
    {
     "ename": "ValueError",
     "evalue": "operands could not be broadcast together with shapes (2,3) (3,2) ",
     "output_type": "error",
     "traceback": [
      "\u001B[0;31m---------------------------------------------------------------------------\u001B[0m",
      "\u001B[0;31mValueError\u001B[0m                                Traceback (most recent call last)",
      "Cell \u001B[0;32mIn[42], line 1\u001B[0m\n\u001B[0;32m----> 1\u001B[0m firstMatrisx \u001B[38;5;241m+\u001B[39m secondMatrix\n",
      "\u001B[0;31mValueError\u001B[0m: operands could not be broadcast together with shapes (2,3) (3,2) "
     ]
    }
   ],
   "execution_count": 42
  },
  {
   "metadata": {
    "ExecuteTime": {
     "end_time": "2025-07-01T14:31:26.441102Z",
     "start_time": "2025-07-01T14:31:26.439450Z"
    }
   },
   "cell_type": "code",
   "source": "",
   "id": "166c5e37c2c4748d",
   "outputs": [],
   "execution_count": null
  },
  {
   "metadata": {},
   "cell_type": "markdown",
   "source": "# Matrix Multiplication",
   "id": "e19ed75ff274ed41"
  },
  {
   "metadata": {
    "ExecuteTime": {
     "end_time": "2025-07-01T14:31:27.277570Z",
     "start_time": "2025-07-01T14:31:27.268074Z"
    }
   },
   "cell_type": "code",
   "source": "firstMatrisx * secondMatrix",
   "id": "26db5d8bce4818ee",
   "outputs": [
    {
     "ename": "ValueError",
     "evalue": "operands could not be broadcast together with shapes (2,3) (3,2) ",
     "output_type": "error",
     "traceback": [
      "\u001B[0;31m---------------------------------------------------------------------------\u001B[0m",
      "\u001B[0;31mValueError\u001B[0m                                Traceback (most recent call last)",
      "Cell \u001B[0;32mIn[43], line 1\u001B[0m\n\u001B[0;32m----> 1\u001B[0m firstMatrisx \u001B[38;5;241m*\u001B[39m secondMatrix\n",
      "\u001B[0;31mValueError\u001B[0m: operands could not be broadcast together with shapes (2,3) (3,2) "
     ]
    }
   ],
   "execution_count": 43
  },
  {
   "metadata": {
    "ExecuteTime": {
     "end_time": "2025-07-01T14:31:27.648645Z",
     "start_time": "2025-07-01T14:31:27.645302Z"
    }
   },
   "cell_type": "code",
   "source": "firstMatrisx.shape",
   "id": "3ea4c461a2b1c23b",
   "outputs": [
    {
     "data": {
      "text/plain": [
       "(2, 3)"
      ]
     },
     "execution_count": 44,
     "metadata": {},
     "output_type": "execute_result"
    }
   ],
   "execution_count": 44
  },
  {
   "metadata": {
    "ExecuteTime": {
     "end_time": "2025-07-01T14:31:27.978130Z",
     "start_time": "2025-07-01T14:31:27.974653Z"
    }
   },
   "cell_type": "code",
   "source": "secondMatrix.shape",
   "id": "abea38b94e237357",
   "outputs": [
    {
     "data": {
      "text/plain": [
       "(3, 2)"
      ]
     },
     "execution_count": 45,
     "metadata": {},
     "output_type": "execute_result"
    }
   ],
   "execution_count": 45
  },
  {
   "metadata": {
    "ExecuteTime": {
     "end_time": "2025-07-01T14:31:36.022344Z",
     "start_time": "2025-07-01T14:31:36.019632Z"
    }
   },
   "cell_type": "code",
   "source": [
    "resultMatrix = firstMatrisx.dot(secondMatrix)\n",
    "resultMatrix"
   ],
   "id": "bcddb15ad6904317",
   "outputs": [
    {
     "data": {
      "text/plain": [
       "array([[27, 15],\n",
       "       [60, 39]])"
      ]
     },
     "execution_count": 48,
     "metadata": {},
     "output_type": "execute_result"
    }
   ],
   "execution_count": 48
  },
  {
   "metadata": {},
   "cell_type": "code",
   "outputs": [],
   "execution_count": null,
   "source": "",
   "id": "c1cf13aa0a547512"
  }
 ],
 "metadata": {
  "kernelspec": {
   "display_name": "Python 3",
   "language": "python",
   "name": "python3"
  },
  "language_info": {
   "codemirror_mode": {
    "name": "ipython",
    "version": 2
   },
   "file_extension": ".py",
   "mimetype": "text/x-python",
   "name": "python",
   "nbconvert_exporter": "python",
   "pygments_lexer": "ipython2",
   "version": "2.7.6"
  }
 },
 "nbformat": 4,
 "nbformat_minor": 5
}
